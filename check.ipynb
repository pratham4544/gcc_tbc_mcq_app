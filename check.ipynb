{
 "cells": [
  {
   "cell_type": "code",
   "execution_count": 1,
   "metadata": {},
   "outputs": [
    {
     "name": "stdout",
     "output_type": "stream",
     "text": [
      "Hello, world\n"
     ]
    }
   ],
   "source": [
    "print('Hello, world')"
   ]
  },
  {
   "cell_type": "code",
   "execution_count": 3,
   "metadata": {},
   "outputs": [
    {
     "name": "stdout",
     "output_type": "stream",
     "text": [
      "Available worksheets: ['Table 1', 'Table 2', 'Table 3', 'Table 4', 'Table 5', 'Table 6', 'Table 7', 'Table 8', 'Table 9', 'Table 10', 'Table 11', 'Table 12', 'Table 13', 'Table 14', 'Table 15', 'Table 16', 'Table 17', 'Table 18', 'Table 19', 'Table 20', 'Table 21', 'Table 22', 'Table 23', 'Table 24', 'Table 25', 'Table 26', 'Table 27', 'Table 28', 'Table 29', 'Table 30', 'Table 31', 'Table 32', 'Table 33', 'Table 34', 'Table 35', 'Table 36', 'Table 37', 'Table 38', 'Table 39', 'Table 40', 'Table 41', 'Table 42', 'Table 43', 'Table 44', 'Table 45', 'Table 46', 'Table 47', 'Table 48', 'Table 49', 'Table 50', 'Table 51', 'Table 52', 'Table 53', 'Table 54', 'Table 55', 'Table 56', 'Table 57', 'Table 58', 'Table 59', 'Table 60', 'Table 61', 'Table 62', 'Table 63', 'Table 64', 'Table 65', 'Table 66', 'Table 67', 'Table 68', 'Table 69', 'Table 70', 'Table 71', 'Table 72', 'Table 73', 'Table 74', 'Table 75', 'Table 76', 'Table 77', 'Table 78', 'Table 79', 'Table 80', 'Table 81', 'Table 82', 'Table 83', 'Table 84', 'Table 85', 'Table 86']\n",
      "Data has been successfully appended and saved to 'combined_file.xlsx'.\n"
     ]
    }
   ],
   "source": [
    "import pandas as pd\n",
    "\n",
    "# Path to your Excel file\n",
    "file_path = 'Merge Result.xlsx'\n",
    "\n",
    "# List all worksheet names in the Excel file\n",
    "xls = pd.ExcelFile(file_path)\n",
    "worksheet_names = xls.sheet_names\n",
    "print(\"Available worksheets:\", worksheet_names)\n",
    "\n",
    "# Initialize an empty DataFrame to store combined data\n",
    "combined_df = pd.DataFrame()\n",
    "\n",
    "# Loop through each worksheet and append data to the combined_df\n",
    "for sheet in worksheet_names:\n",
    "    # Read the worksheet into a DataFrame\n",
    "    df = pd.read_excel(file_path, sheet_name=sheet)\n",
    "    \n",
    "    # Optionally, add a new column to track the source worksheet\n",
    "    df['Source Sheet'] = sheet\n",
    "    \n",
    "    # Append the data to the combined DataFrame\n",
    "    combined_df = pd.concat([combined_df, df], ignore_index=True)\n",
    "\n",
    "# Write the combined data into a new worksheet in the same Excel file\n",
    "with pd.ExcelWriter('combined_file.xlsx', engine='openpyxl') as writer:\n",
    "    combined_df.to_excel(writer, index=False, sheet_name='CombinedData')\n",
    "\n",
    "print(\"Data has been successfully appended and saved to 'combined_file.xlsx'.\")\n"
   ]
  },
  {
   "cell_type": "code",
   "execution_count": null,
   "metadata": {},
   "outputs": [],
   "source": []
  }
 ],
 "metadata": {
  "kernelspec": {
   "display_name": "Python 3",
   "language": "python",
   "name": "python3"
  },
  "language_info": {
   "codemirror_mode": {
    "name": "ipython",
    "version": 3
   },
   "file_extension": ".py",
   "mimetype": "text/x-python",
   "name": "python",
   "nbconvert_exporter": "python",
   "pygments_lexer": "ipython3",
   "version": "3.12.7"
  }
 },
 "nbformat": 4,
 "nbformat_minor": 2
}
